{
  "nbformat": 4,
  "nbformat_minor": 0,
  "metadata": {
    "colab": {
      "name": "dog-rates.ipynb",
      "provenance": []
    },
    "kernelspec": {
      "name": "python3",
      "display_name": "Python 3"
    }
  },
  "cells": [
    {
      "cell_type": "code",
      "metadata": {
        "id": "gKEO1j7M95Pp"
      },
      "source": [
        "import pandas as pd\n",
        "import numpy as np\n",
        "import matplotlib.pyplot as plt\n",
        "import datetime\n",
        "from scipy import stats\n",
        "import re"
      ],
      "execution_count": 3,
      "outputs": []
    },
    {
      "cell_type": "code",
      "metadata": {
        "id": "SbDkDXVh-VMJ"
      },
      "source": [
        "# Load data from CSV file into a Dataframe\n",
        "dog_rates_data = pd.read_csv('dog_rates_tweets.csv', parse_dates=True)\n",
        "\n",
        "# Finding tweets containing a \"n/10\" rating\n",
        "rate_ten = dog_rates_data.text.str.extract(r'(\\d+(\\.\\d+)?)/10', expand=False)\n",
        "rate_data = rate_ten[rate_ten[0] <'NaN'][0]\n"
      ],
      "execution_count": 5,
      "outputs": []
    },
    {
      "cell_type": "code",
      "metadata": {
        "id": "ETr9uSI5gXW9"
      },
      "source": [
        "# Removing outliers\n",
        "rate_data_num = pd.to_numeric(rate_data)\n",
        "rate_data_num = rate_data_num[rate_data_num <= 25]\n",
        "\n",
        "# Adding rating to data\n",
        "dog_rates_data['rating'] = rate_data_num\n",
        "\n",
        "# Labelling the data using loc method\n",
        "data_ready = dog_rates_data.loc[rate_data_num.index]"
      ],
      "execution_count": 7,
      "outputs": []
    },
    {
      "cell_type": "code",
      "metadata": {
        "id": "WQdEwuRykF4m"
      },
      "source": [
        "# Making 'created_at' column as a datetime value\n",
        "data_ready['created_at'] = pd.to_datetime(data_ready['created_at'])"
      ],
      "execution_count": 8,
      "outputs": []
    },
    {
      "cell_type": "code",
      "metadata": {
        "id": "qXHFSsRJmGpJ"
      },
      "source": [
        "# Writing to_timestamp() function\n",
        "def to_timestamp(df):\n",
        "  return df.timestamp()"
      ],
      "execution_count": 9,
      "outputs": []
    },
    {
      "cell_type": "code",
      "metadata": {
        "id": "HaBF19olk0S_"
      },
      "source": [
        "# Applying to_timestamp() function\n",
        "data_ready['timestamp'] = data_ready['created_at'].apply(to_timestamp)"
      ],
      "execution_count": 10,
      "outputs": []
    },
    {
      "cell_type": "code",
      "metadata": {
        "id": "LYRZ39Crl6Oh",
        "outputId": "180459bd-ee57-445d-975f-86f109811bc3",
        "colab": {
          "base_uri": "https://localhost:8080/",
          "height": 589
        }
      },
      "source": [
        "data_ready"
      ],
      "execution_count": 11,
      "outputs": [
        {
          "output_type": "execute_result",
          "data": {
            "text/html": [
              "<div>\n",
              "<style scoped>\n",
              "    .dataframe tbody tr th:only-of-type {\n",
              "        vertical-align: middle;\n",
              "    }\n",
              "\n",
              "    .dataframe tbody tr th {\n",
              "        vertical-align: top;\n",
              "    }\n",
              "\n",
              "    .dataframe thead th {\n",
              "        text-align: right;\n",
              "    }\n",
              "</style>\n",
              "<table border=\"1\" class=\"dataframe\">\n",
              "  <thead>\n",
              "    <tr style=\"text-align: right;\">\n",
              "      <th></th>\n",
              "      <th>id</th>\n",
              "      <th>created_at</th>\n",
              "      <th>text</th>\n",
              "      <th>rating</th>\n",
              "      <th>timestamp</th>\n",
              "    </tr>\n",
              "  </thead>\n",
              "  <tbody>\n",
              "    <tr>\n",
              "      <th>2</th>\n",
              "      <td>994363623421153280</td>\n",
              "      <td>2018-05-09 23:48:56</td>\n",
              "      <td>This is Louie. He has misplaced his Cheerio. W...</td>\n",
              "      <td>14.0</td>\n",
              "      <td>1.525910e+09</td>\n",
              "    </tr>\n",
              "    <tr>\n",
              "      <th>7</th>\n",
              "      <td>993889039714578432</td>\n",
              "      <td>2018-05-08 16:23:07</td>\n",
              "      <td>This is Manny. He hasn’t seen your croissant. ...</td>\n",
              "      <td>13.0</td>\n",
              "      <td>1.525797e+09</td>\n",
              "    </tr>\n",
              "    <tr>\n",
              "      <th>8</th>\n",
              "      <td>993629544463642624</td>\n",
              "      <td>2018-05-07 23:11:58</td>\n",
              "      <td>This is Libby. She leap. 14/10\\n(IG: libbythef...</td>\n",
              "      <td>14.0</td>\n",
              "      <td>1.525735e+09</td>\n",
              "    </tr>\n",
              "    <tr>\n",
              "      <th>24</th>\n",
              "      <td>992198572664860672</td>\n",
              "      <td>2018-05-04 00:25:48</td>\n",
              "      <td>This is Rosie. She thought Coachella was this ...</td>\n",
              "      <td>13.0</td>\n",
              "      <td>1.525394e+09</td>\n",
              "    </tr>\n",
              "    <tr>\n",
              "      <th>30</th>\n",
              "      <td>991744041351090177</td>\n",
              "      <td>2018-05-02 18:19:39</td>\n",
              "      <td>This is Riley. He’ll be your chauffeur this ev...</td>\n",
              "      <td>13.0</td>\n",
              "      <td>1.525285e+09</td>\n",
              "    </tr>\n",
              "    <tr>\n",
              "      <th>...</th>\n",
              "      <td>...</td>\n",
              "      <td>...</td>\n",
              "      <td>...</td>\n",
              "      <td>...</td>\n",
              "      <td>...</td>\n",
              "    </tr>\n",
              "    <tr>\n",
              "      <th>7363</th>\n",
              "      <td>1032725635888803841</td>\n",
              "      <td>2018-08-23 20:25:53</td>\n",
              "      <td>This is Noodles. He had brain surgery earlier ...</td>\n",
              "      <td>14.0</td>\n",
              "      <td>1.535056e+09</td>\n",
              "    </tr>\n",
              "    <tr>\n",
              "      <th>7369</th>\n",
              "      <td>1032310288652152832</td>\n",
              "      <td>2018-08-22 16:55:26</td>\n",
              "      <td>This is Pingo and Nina. They are believed to b...</td>\n",
              "      <td>14.0</td>\n",
              "      <td>1.534957e+09</td>\n",
              "    </tr>\n",
              "    <tr>\n",
              "      <th>7381</th>\n",
              "      <td>1031696422813544448</td>\n",
              "      <td>2018-08-21 00:16:09</td>\n",
              "      <td>This is Nikita. She got caught in some wild fl...</td>\n",
              "      <td>13.0</td>\n",
              "      <td>1.534811e+09</td>\n",
              "    </tr>\n",
              "    <tr>\n",
              "      <th>7431</th>\n",
              "      <td>1029767403545288706</td>\n",
              "      <td>2018-08-15 16:30:55</td>\n",
              "      <td>This is Winston. He came home for the first ti...</td>\n",
              "      <td>14.0</td>\n",
              "      <td>1.534351e+09</td>\n",
              "    </tr>\n",
              "    <tr>\n",
              "      <th>7433</th>\n",
              "      <td>1029550934408486912</td>\n",
              "      <td>2018-08-15 02:10:45</td>\n",
              "      <td>RT @dog_rates: Here's a doggo realizing you ca...</td>\n",
              "      <td>13.0</td>\n",
              "      <td>1.534299e+09</td>\n",
              "    </tr>\n",
              "  </tbody>\n",
              "</table>\n",
              "<p>1669 rows × 5 columns</p>\n",
              "</div>"
            ],
            "text/plain": [
              "                       id          created_at  ... rating     timestamp\n",
              "2      994363623421153280 2018-05-09 23:48:56  ...   14.0  1.525910e+09\n",
              "7      993889039714578432 2018-05-08 16:23:07  ...   13.0  1.525797e+09\n",
              "8      993629544463642624 2018-05-07 23:11:58  ...   14.0  1.525735e+09\n",
              "24     992198572664860672 2018-05-04 00:25:48  ...   13.0  1.525394e+09\n",
              "30     991744041351090177 2018-05-02 18:19:39  ...   13.0  1.525285e+09\n",
              "...                   ...                 ...  ...    ...           ...\n",
              "7363  1032725635888803841 2018-08-23 20:25:53  ...   14.0  1.535056e+09\n",
              "7369  1032310288652152832 2018-08-22 16:55:26  ...   14.0  1.534957e+09\n",
              "7381  1031696422813544448 2018-08-21 00:16:09  ...   13.0  1.534811e+09\n",
              "7431  1029767403545288706 2018-08-15 16:30:55  ...   14.0  1.534351e+09\n",
              "7433  1029550934408486912 2018-08-15 02:10:45  ...   13.0  1.534299e+09\n",
              "\n",
              "[1669 rows x 5 columns]"
            ]
          },
          "metadata": {
            "tags": []
          },
          "execution_count": 11
        }
      ]
    },
    {
      "cell_type": "code",
      "metadata": {
        "id": "EahColcnmfEw"
      },
      "source": [
        "# Getting best fit line\n",
        "best_fit = stats.linregress(data_ready['timestamp'], data_ready['rating'])"
      ],
      "execution_count": 12,
      "outputs": []
    },
    {
      "cell_type": "code",
      "metadata": {
        "id": "kUkZjkWxm2D2",
        "outputId": "b35e4d3e-53d6-498b-fa53-34c07da50108",
        "colab": {
          "base_uri": "https://localhost:8080/"
        }
      },
      "source": [
        "print(best_fit.slope)\n",
        "print(best_fit.intercept)"
      ],
      "execution_count": 13,
      "outputs": [
        {
          "output_type": "stream",
          "text": [
            "3.515929974847721e-08\n",
            "-40.46415480898916\n"
          ],
          "name": "stdout"
        }
      ]
    },
    {
      "cell_type": "code",
      "metadata": {
        "id": "3anWZ0Cum5pu",
        "outputId": "b6119855-ab59-4079-a310-6d3dc0986f13",
        "colab": {
          "base_uri": "https://localhost:8080/",
          "height": 282
        }
      },
      "source": [
        "plt.xticks(rotation=25)\n",
        "plt.plot(data_ready['created_at'].values, data_ready['rating'], 'b.', alpha=0.5)\n",
        "plt.plot(data_ready['created_at'].values, (data_ready['timestamp']*best_fit.slope) + best_fit.intercept, 'r-', linewidth=3)\n",
        "plt.show()"
      ],
      "execution_count": 14,
      "outputs": [
        {
          "output_type": "display_data",
          "data": {
            "image/png": "[encoded data removed]",
            "text/plain": [
              "<Figure size 432x288 with 1 Axes>"
            ]
          },
          "metadata": {
            "tags": [],
            "needs_background": "light"
          }
        }
      ]
    },
    {
      "cell_type": "code",
      "metadata": {
        "id": "7VD4javKgAXq",
        "outputId": "fdbbed04-d211-40f2-9ce1-e870809a1523",
        "colab": {
          "base_uri": "https://localhost:8080/"
        }
      },
      "source": [
        "# Exercise 7 additions\n",
        "# p-value\n",
        "print(best_fit.pvalue)"
      ],
      "execution_count": 15,
      "outputs": [
        {
          "output_type": "stream",
          "text": [
            "1.5139606492959894e-106\n"
          ],
          "name": "stdout"
        }
      ]
    },
    {
      "cell_type": "code",
      "metadata": {
        "id": "YaasfG72gIhg",
        "outputId": "560f33ed-a5d0-4041-8a17-e4d81bcf4ce2",
        "colab": {
          "base_uri": "https://localhost:8080/",
          "height": 265
        }
      },
      "source": [
        "residuals = data_ready['rating'] - (best_fit.slope*data_ready['timestamp'] + best_fit.intercept)\n",
        "plt.hist(residuals)\n",
        "plt.show()"
      ],
      "execution_count": 16,
      "outputs": [
        {
          "output_type": "display_data",
          "data": {
            "image/png": "[encoded data removed]",
            "text/plain": [
              "<Figure size 432x288 with 1 Axes>"
            ]
          },
          "metadata": {
            "tags": [],
            "needs_background": "light"
          }
        }
      ]
    },
    {
      "cell_type": "code",
      "metadata": {
        "id": "xmYIRXjChMM1"
      },
      "source": [
        ""
      ],
      "execution_count": null,
      "outputs": []
    }
  ]
}