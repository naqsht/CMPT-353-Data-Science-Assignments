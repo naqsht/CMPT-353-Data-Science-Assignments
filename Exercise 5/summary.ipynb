{
  "nbformat": 4,
  "nbformat_minor": 0,
  "metadata": {
    "colab": {
      "name": "summary.ipynb",
      "provenance": []
    },
    "kernelspec": {
      "name": "python3",
      "display_name": "Python 3"
    }
  },
  "cells": [
    {
      "cell_type": "code",
      "metadata": {
        "id": "a_FUtN4FeDEg"
      },
      "source": [
        "import os\n",
        "import numpy as np\n",
        "import pandas as pd"
      ],
      "execution_count": 15,
      "outputs": []
    },
    {
      "cell_type": "code",
      "metadata": {
        "id": "WcK9c-VUj4z0"
      },
      "source": [
        "# Function to compute mean, std dev, range, and correlation coeff for the data\n",
        "def dataset_stats(data, filename):\n",
        "  summary = pd.DataFrame({'x_mean':data['x'].mean(), 'y_mean':data['y'].mean(), 'x_std_dev': data['x'].std(), 'y_std_dev':data['y'].std(), 'x_range': str([data['x'].max(), data['x'].min()]), 'y_range': str([data['y'].max(), data['y'].min()]), 'corr_coeff': data.corr()['x']['y']}, index=[filename])\n",
        "  return summary"
      ],
      "execution_count": null,
      "outputs": []
    },
    {
      "cell_type": "code",
      "metadata": {
        "id": "qAyK-uf2ehv0"
      },
      "source": [
        "# Reading CSV files for the data\n",
        "data_1 = pd.read_csv('data-1.csv')\n",
        "data_2 = pd.read_csv('data-2.csv')\n",
        "data_3 = pd.read_csv('data-3.csv')\n",
        "data_4 = pd.read_csv('data-4.csv')\n",
        "data_5 = pd.read_csv('data-5.csv')\n",
        "data_6 = pd.read_csv('data-6.csv')"
      ],
      "execution_count": 3,
      "outputs": []
    },
    {
      "cell_type": "code",
      "metadata": {
        "id": "K2Rie5FfhDWw"
      },
      "source": [
        "# Creating a summary table for the computed stats of the data\n",
        "summary = dataset_stats(data_1, 'data-1')\n",
        "summary = summary.append(dataset_stats(data_2, 'data-2'))\n",
        "summary = summary.append(dataset_stats(data_3, 'data-3'))\n",
        "summary = summary.append(dataset_stats(data_4, 'data-4'))\n",
        "summary = summary.append(dataset_stats(data_5, 'data-5'))\n",
        "summary = summary.append(dataset_stats(data_6, 'data-6'))"
      ],
      "execution_count": 12,
      "outputs": []
    },
    {
      "cell_type": "code",
      "metadata": {
        "id": "y1filmKhhgCb",
        "outputId": "2a5c2dae-ad65-4c10-dd2f-5cc5d3d6ae96",
        "colab": {
          "base_uri": "https://localhost:8080/",
          "height": 235
        }
      },
      "source": [
        "summary"
      ],
      "execution_count": 13,
      "outputs": [
        {
          "output_type": "execute_result",
          "data": {
            "text/html": [
              "<div>\n",
              "<style scoped>\n",
              "    .dataframe tbody tr th:only-of-type {\n",
              "        vertical-align: middle;\n",
              "    }\n",
              "\n",
              "    .dataframe tbody tr th {\n",
              "        vertical-align: top;\n",
              "    }\n",
              "\n",
              "    .dataframe thead th {\n",
              "        text-align: right;\n",
              "    }\n",
              "</style>\n",
              "<table border=\"1\" class=\"dataframe\">\n",
              "  <thead>\n",
              "    <tr style=\"text-align: right;\">\n",
              "      <th></th>\n",
              "      <th>x_mean</th>\n",
              "      <th>y_mean</th>\n",
              "      <th>x_std_dev</th>\n",
              "      <th>y_std_dev</th>\n",
              "      <th>x_range</th>\n",
              "      <th>y_range</th>\n",
              "      <th>corr_coeff</th>\n",
              "    </tr>\n",
              "  </thead>\n",
              "  <tbody>\n",
              "    <tr>\n",
              "      <th>data-1</th>\n",
              "      <td>8.717696</td>\n",
              "      <td>12.522874</td>\n",
              "      <td>12.155517</td>\n",
              "      <td>6.639964</td>\n",
              "      <td>[35.23705548785129, -22.635877790008944]</td>\n",
              "      <td>[27.38415261152477, -2.5650878326932127]</td>\n",
              "      <td>0.950326</td>\n",
              "    </tr>\n",
              "    <tr>\n",
              "      <th>data-2</th>\n",
              "      <td>-0.710787</td>\n",
              "      <td>-0.748987</td>\n",
              "      <td>11.481584</td>\n",
              "      <td>6.257918</td>\n",
              "      <td>[27.6470003722073, -33.2711130771198]</td>\n",
              "      <td>[14.147314992317481, -18.621803760419066]</td>\n",
              "      <td>0.955153</td>\n",
              "    </tr>\n",
              "    <tr>\n",
              "      <th>data-3</th>\n",
              "      <td>0.968907</td>\n",
              "      <td>8.508535</td>\n",
              "      <td>2.235558</td>\n",
              "      <td>1.149301</td>\n",
              "      <td>[4.51888491755363, -2.4490643296742807]</td>\n",
              "      <td>[10.551871022804317, 6.641734490391762]</td>\n",
              "      <td>0.981937</td>\n",
              "    </tr>\n",
              "    <tr>\n",
              "      <th>data-4</th>\n",
              "      <td>49.905086</td>\n",
              "      <td>18.553837</td>\n",
              "      <td>28.508611</td>\n",
              "      <td>16.545896</td>\n",
              "      <td>[87.3767, 0.0]</td>\n",
              "      <td>[44.56504, 0.0]</td>\n",
              "      <td>-0.081193</td>\n",
              "    </tr>\n",
              "    <tr>\n",
              "      <th>data-5</th>\n",
              "      <td>49.909994</td>\n",
              "      <td>18.555525</td>\n",
              "      <td>28.500001</td>\n",
              "      <td>16.540796</td>\n",
              "      <td>[91.0528633396976, 4.337892453674525]</td>\n",
              "      <td>[49.93419703633311, 0.05549750758115175]</td>\n",
              "      <td>-0.088236</td>\n",
              "    </tr>\n",
              "    <tr>\n",
              "      <th>data-6</th>\n",
              "      <td>7.216155</td>\n",
              "      <td>7.602215</td>\n",
              "      <td>11.921599</td>\n",
              "      <td>11.764382</td>\n",
              "      <td>[35.402138910929, -24.33382075234097]</td>\n",
              "      <td>[36.07987403078143, -22.9563569970746]</td>\n",
              "      <td>0.935069</td>\n",
              "    </tr>\n",
              "  </tbody>\n",
              "</table>\n",
              "</div>"
            ],
            "text/plain": [
              "           x_mean  ...  corr_coeff\n",
              "data-1   8.717696  ...    0.950326\n",
              "data-2  -0.710787  ...    0.955153\n",
              "data-3   0.968907  ...    0.981937\n",
              "data-4  49.905086  ...   -0.081193\n",
              "data-5  49.909994  ...   -0.088236\n",
              "data-6   7.216155  ...    0.935069\n",
              "\n",
              "[6 rows x 7 columns]"
            ]
          },
          "metadata": {
            "tags": []
          },
          "execution_count": 13
        }
      ]
    },
    {
      "cell_type": "code",
      "metadata": {
        "id": "mQhWmEiRiLYN"
      },
      "source": [
        "# Saving the output as a txt file\n",
        "file_summ = 'summary.txt'\n",
        "with open(os.path.join(file_summ), 'w') as outfile:\n",
        "  summary.to_string(outfile)"
      ],
      "execution_count": 16,
      "outputs": []
    }
  ]
}